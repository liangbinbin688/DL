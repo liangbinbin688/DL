{
 "cells": [
  {
   "cell_type": "code",
   "execution_count": 9,
   "metadata": {},
   "outputs": [
    {
     "name": "stdout",
     "output_type": "stream",
     "text": [
      "[[ 1.10389372  0.80673914 -0.49585683  0.17538204]]\n",
      "[[0.7920733  0.37734468 0.99972194 0.79187463]]\n"
     ]
    }
   ],
   "source": [
    "import numpy as np\n",
    "\n",
    "def sigmoid(x,deriv=False):\n",
    "    \n",
    "    a=1.0/(1.0+np.exp(-x))\n",
    "    if(deriv==True):\n",
    "        return a*(1-a)\n",
    "    else:\n",
    "        return a\n",
    "    \n",
    "def train(X,Y,syn0,syn1,learning_rate=0.005):\n",
    "    b_1=np.ones((4,1))\n",
    "    b_2=np.ones((1,4))\n",
    "    n,m=np.shape(X)\n",
    "    for i in range(5000000):\n",
    "        #正向\n",
    "        Z_1=np.dot(syn0,X)+b_1\n",
    "        A_1=sigmoid(Z_1,False)\n",
    "    \n",
    "        Z_2=np.dot(syn1,A_1)+b_2\n",
    "        A_2=sigmoid(Z_2,False)\n",
    "        \n",
    "        #反向\n",
    "        d_Z_2=A_2-Y\n",
    "        d_W_2=(1.0/m)*np.dot(d_Z_2,A_1)\n",
    "        d_b_2=(1.0/m)*np.sum(d_Z_2,axis=1,keepdims=True)\n",
    "        \n",
    "        d_Z_1=np.dot(syn1.transpose(),d_Z_2)*sigmoid(Z_1)\n",
    "        d_W_1=(1.0/m)*np.dot(d_Z_1,X.transpose())\n",
    "        d_b_1=(1.0/m)*np.sum(d_Z_1,axis=1,keepdims=True)\n",
    "        \n",
    "        syn0=syn0-learning_rate*d_W_1\n",
    "        syn1=syn1-learning_rate*d_W_2\n",
    "    Z_1=np.dot(syn0,X)+b_1\n",
    "    A_1=sigmoid(Z_1,False)\n",
    "    \n",
    "    Z_2=np.dot(syn1,A_1) +b_2\n",
    "    A_2=sigmoid(Z_2,False)\n",
    "        \n",
    "    print(A_2)\n",
    "    \n",
    "\n",
    "\n",
    "if __name__==\"__main__\":\n",
    "    X=np.array([[0,0,1],[0,1,1],[1,0,1],[1,1,1]]).T  #输入数据\n",
    "    Y=np.array([[1,0,1,1]])     #输出数据\n",
    "    \n",
    "    #syn0=np.ones((4,3))\n",
    "    syn0=np.random.randn(4,3)\n",
    "    syn1=np.random.randn(1,4)\n",
    "    \n",
    "    #syn1=np.ones((1,4))\n",
    "    \n",
    "    print(syn1)\n",
    "    train(X,Y,syn0,syn1)\n",
    "    \n",
    "    \n",
    "    \n",
    "    \n",
    "    \n",
    "    \n"
   ]
  },
  {
   "cell_type": "code",
   "execution_count": null,
   "metadata": {},
   "outputs": [],
   "source": []
  }
 ],
 "metadata": {
  "kernelspec": {
   "display_name": "Python 3",
   "language": "python",
   "name": "python3"
  },
  "language_info": {
   "codemirror_mode": {
    "name": "ipython",
    "version": 3
   },
   "file_extension": ".py",
   "mimetype": "text/x-python",
   "name": "python",
   "nbconvert_exporter": "python",
   "pygments_lexer": "ipython3",
   "version": "3.6.5"
  }
 },
 "nbformat": 4,
 "nbformat_minor": 2
}
