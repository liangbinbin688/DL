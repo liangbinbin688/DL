{
 "cells": [
  {
   "cell_type": "markdown",
   "metadata": {},
   "source": [
    "## 1.什么是神经网络？\n",
    "\n",
    "![001](images/001.png)\n",
    "\n",
    "利用神经网络解决线性回归的问题，拟合一个Relu函数（修正线性函数）。\n",
    "\n",
    "使用单特征值进行拟合修正线性单元\n",
    "\n",
    "![002](images/002.png)\n",
    "\n",
    "使用四个特征去预测房价\n",
    "\n",
    "![003](images/003.png)\n",
    "\n",
    "光关注于输入和输出，不用关注中间的隐藏层代表的含义，所有的计算分析都是由网络自己确定。\n",
    "\n",
    "## 2.用神经网络进行监督学习\n",
    "\n",
    "\n",
    "![004](images/004.png)\n",
    "\n",
    "\n",
    "常见的三种网络架构：\n",
    "\n",
    "![005](images/005.png)\n",
    "\n",
    "标准神经网络用于一般的分类预测等问题；\n",
    "\n",
    "卷积神经网络用于处理图像等问题；\n",
    "\n",
    "循环神经网络英语处理一维的序列数据，例如，信号，音频等信息。\n",
    "\n",
    "监督学习与数据类型：\n",
    "\n",
    "![006](images/006.png)\n",
    "\n",
    "## 3.什么促进了深度学习的快速发展\n",
    "\n",
    "![007](images/007.png)\n",
    "\n",
    "神经网络的规模和数据的规模促进了深度学习的发展。\n",
    "\n",
    "\n",
    "+ 大规模数据\n",
    "\n",
    "+ 计算能力\n",
    "\n",
    "+ 算法改进（sigmoid到relu函数的转变）\n",
    "\n",
    "![010](images/009.png)\n",
    "\n",
    "\n"
   ]
  },
  {
   "cell_type": "code",
   "execution_count": null,
   "metadata": {},
   "outputs": [],
   "source": []
  }
 ],
 "metadata": {
  "kernelspec": {
   "display_name": "Python 3",
   "language": "python",
   "name": "python3"
  },
  "language_info": {
   "codemirror_mode": {
    "name": "ipython",
    "version": 3
   },
   "file_extension": ".py",
   "mimetype": "text/x-python",
   "name": "python",
   "nbconvert_exporter": "python",
   "pygments_lexer": "ipython3",
   "version": "3.6.5"
  }
 },
 "nbformat": 4,
 "nbformat_minor": 2
}
