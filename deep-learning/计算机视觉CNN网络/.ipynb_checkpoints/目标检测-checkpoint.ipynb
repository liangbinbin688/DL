{
 "cells": [
  {
   "cell_type": "markdown",
   "metadata": {},
   "source": [
    "## 目标检测\n",
    "\n",
    "不仅要识别图像的对象，还要识别对象的位置。\n",
    "\n",
    "![001](images_03/001.png)\n",
    "\n",
    "如何定义训练集的标签：\n",
    "\n",
    "![002](images_03/002.png)\n",
    "\n",
    "标签要包括是否有检测目标，目标的位置($b_x,b_y,b_h,b_w$)，检测物所属的类别等信息。\n",
    "\n",
    "损失函数：$L(y^`,y)=({y_1}^`-y_1)^2+({y_2}^`-y_2)^2+...$,对应各项的平方差。\n",
    "\n",
    "\n",
    "\n",
    "\n"
   ]
  },
  {
   "cell_type": "code",
   "execution_count": null,
   "metadata": {},
   "outputs": [],
   "source": []
  }
 ],
 "metadata": {
  "kernelspec": {
   "display_name": "Python 3",
   "language": "python",
   "name": "python3"
  },
  "language_info": {
   "codemirror_mode": {
    "name": "ipython",
    "version": 3
   },
   "file_extension": ".py",
   "mimetype": "text/x-python",
   "name": "python",
   "nbconvert_exporter": "python",
   "pygments_lexer": "ipython3",
   "version": "3.6.5"
  }
 },
 "nbformat": 4,
 "nbformat_minor": 2
}
